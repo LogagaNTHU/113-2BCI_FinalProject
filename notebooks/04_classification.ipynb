{
 "cells": [
  {
   "cell_type": "code",
   "execution_count": null,
   "id": "dbcb7532-8b63-4eab-ae5a-11af04634bf5",
   "metadata": {},
   "outputs": [],
   "source": [
    "import pathlib\n",
    "import pandas as pd\n",
    "import numpy as np\n",
    "from sklearn.pipeline import make_pipeline\n",
    "from sklearn.preprocessing import StandardScaler\n",
    "from sklearn.discriminant_analysis import LinearDiscriminantAnalysis\n",
    "from sklearn.svm import SVC\n",
    "from sklearn.model_selection import StratifiedKFold, cross_val_score, cross_val_predict\n",
    "from sklearn.metrics import accuracy_score, f1_score, confusion_matrix, ConfusionMatrixDisplay\n",
    "import matplotlib.pyplot as plt\n",
    "\n",
    "ROOT   = pathlib.Path.cwd().parent          # D:\\COGBCI\n",
    "RAWDIR = ROOT / 'results' / 'features_all.csv'\n",
    "# 1. 載入特徵資料（請確認路徑正確）\n",
    "df = pd.read_csv(RAWDIR)  # 假設 notebook 位於 notebooks/ 底下\n",
    "\n",
    "# 2. 聚合成每位受試在每個條件的平均特徵\n",
    "df['load'] = df['cond'].map({'0b': 0, '1b': 1, '2b': 2})\n",
    "agg = df.groupby(['sub', 'load']).agg({\n",
    "    'p300_mean': 'mean',\n",
    "    'theta_mean': 'mean'\n",
    "}).reset_index()\n",
    "\n",
    "X = agg[['p300_mean', 'theta_mean']].values\n",
    "y = agg['load'].values  # 0,1,2 分別對應 0-back,1-back,2-back\n",
    "\n",
    "# 3. 定義 10-fold 分層交叉驗證\n",
    "cv = StratifiedKFold(n_splits=10, shuffle=True, random_state=42)"
   ]
  },
  {
   "cell_type": "code",
   "execution_count": null,
   "id": "c19a7513-3d67-4671-879d-7f9990802908",
   "metadata": {},
   "outputs": [],
   "source": [
    "# 4A. LDA 模型\n",
    "lda = make_pipeline(StandardScaler(), LinearDiscriminantAnalysis())\n",
    "lda_acc = cross_val_score(lda, X, y, cv=cv, scoring='accuracy')\n",
    "lda_f1  = cross_val_score(lda, X, y, cv=cv, scoring='f1_weighted')\n",
    "print(\"LDA 10-fold CV Accuracy: %.3f ± %.3f\" % (lda_acc.mean(), lda_acc.std()))\n",
    "print(\"LDA 10-fold CV Weighted F1: %.3f ± %.3f\\n\" % (lda_f1.mean(), lda_f1.std()))\n",
    "\n",
    "# 4B. 繪製 LDA 混淆矩陣\n",
    "y_pred_lda = cross_val_predict(lda, X, y, cv=cv)\n",
    "cm_lda = confusion_matrix(y, y_pred_lda, labels=[0,1,2])\n",
    "disp_lda = ConfusionMatrixDisplay(confusion_matrix=cm_lda, display_labels=['0b','1b','2b'])\n",
    "fig, ax = plt.subplots(figsize=(4.5,4.5))\n",
    "disp_lda.plot(ax=ax)\n",
    "ax.set_title(\"LDA Confusion Matrix\")\n",
    "plt.show()"
   ]
  },
  {
   "cell_type": "code",
   "execution_count": null,
   "id": "20e02a34-c5ee-4edc-810e-7173c9de9d16",
   "metadata": {},
   "outputs": [],
   "source": [
    "# 5A. SVM (linear kernel)\n",
    "svm = make_pipeline(StandardScaler(), SVC(kernel='linear'))\n",
    "svm_acc = cross_val_score(svm, X, y, cv=cv, scoring='accuracy')\n",
    "svm_f1  = cross_val_score(svm, X, y, cv=cv, scoring='f1_weighted')\n",
    "print(\"SVM 10-fold CV Accuracy: %.3f ± %.3f\" % (svm_acc.mean(), svm_acc.std()))\n",
    "print(\"SVM 10-fold CV Weighted F1: %.3f ± %.3f\\n\" % (svm_f1.mean(), svm_f1.std()))\n",
    "\n",
    "# 5B. SVM 混淆矩陣\n",
    "y_pred_svm = cross_val_predict(svm, X, y, cv=cv)\n",
    "cm_svm = confusion_matrix(y, y_pred_svm, labels=[0,1,2])\n",
    "disp_svm = ConfusionMatrixDisplay(confusion_matrix=cm_svm, display_labels=['0b','1b','2b'])\n",
    "fig, ax = plt.subplots(figsize=(4.5,4.5))\n",
    "disp_svm.plot(ax=ax)\n",
    "ax.set_title(\"SVM Confusion Matrix\")\n",
    "plt.show()"
   ]
  },
  {
   "cell_type": "code",
   "execution_count": null,
   "id": "c183301e-7e99-44f1-8355-3e665b79eaf5",
   "metadata": {},
   "outputs": [],
   "source": [
    "# 6. 儲存到 CSV\n",
    "results = {\n",
    "    'Model': ['LDA', 'SVM'],\n",
    "    'Accuracy Mean': [lda_acc.mean(), svm_acc.mean()],\n",
    "    'Accuracy Std':  [lda_acc.std(),  svm_acc.std()],\n",
    "    'F1 Mean':       [lda_f1.mean(),  svm_f1.mean()],\n",
    "    'F1 Std':        [lda_f1.std(),   svm_f1.std()]\n",
    "}\n",
    "df_results = pd.DataFrame(results)\n",
    "df_results.to_csv('../results/classification_report.csv', index=False)\n",
    "print(\"Classification results saved to results/classification_report.csv\")"
   ]
  },
  {
   "cell_type": "code",
   "execution_count": null,
   "id": "46ddd76a-1ce8-49ab-bf7e-7f32d59ab782",
   "metadata": {},
   "outputs": [],
   "source": [
    "import numpy as np\n",
    "import pathlib\n",
    "\n",
    "RES_DIR = pathlib.Path('../results')\n",
    "RES_DIR.mkdir(exist_ok=True)\n",
    "\n",
    "\n",
    "y_pred_lda = cross_val_predict(lda, X, y, cv=cv)\n",
    "# --------------------------------\n",
    "\n",
    "np.save(RES_DIR / 'y_true.npy', y)\n",
    "np.save(RES_DIR / 'y_pred_lda.npy', y_pred_lda)\n",
    "\n",
    "y_pred_svm = cross_val_predict(svm, X, y, cv=cv)\n",
    "np.save(RES_DIR / 'y_pred_svm.npy', y_pred_svm)\n",
    "# ---------------------------------"
   ]
  },
  {
   "cell_type": "code",
   "execution_count": null,
   "id": "b55a4984-5a6d-407f-81d5-69b4d14e52e6",
   "metadata": {},
   "outputs": [],
   "source": []
  }
 ],
 "metadata": {
  "kernelspec": {
   "display_name": "Python 3 (ipykernel)",
   "language": "python",
   "name": "python3"
  },
  "language_info": {
   "codemirror_mode": {
    "name": "ipython",
    "version": 3
   },
   "file_extension": ".py",
   "mimetype": "text/x-python",
   "name": "python",
   "nbconvert_exporter": "python",
   "pygments_lexer": "ipython3",
   "version": "3.11.11"
  }
 },
 "nbformat": 4,
 "nbformat_minor": 5
}
