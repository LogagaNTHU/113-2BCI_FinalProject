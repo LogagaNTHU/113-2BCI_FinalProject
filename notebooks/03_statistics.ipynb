{
 "cells": [
  {
   "cell_type": "code",
   "execution_count": 6,
   "id": "c064ecde-75ab-4a3a-bc79-54f2eecc8fda",
   "metadata": {},
   "outputs": [],
   "source": [
    "import pathlib\n",
    "import pandas as pd\n",
    "import numpy as np\n",
    "import pingouin as pg\n",
    "from scipy.stats import ttest_rel\n",
    "from statsmodels.stats.anova import AnovaRM\n",
    "\n",
    "ROOT   = pathlib.Path.cwd().parent          # D:\\COGBCI\n",
    "RAWDIR = ROOT / 'results' / 'features_all.csv' \n",
    "# 1. 載入特徵資料\n",
    "df = pd.read_csv(RAWDIR)  # 修改為你的檔案路徑\n",
    "\n",
    "# 2. 將 cond 轉為數值 load（0b→0, 1b→1, 2b→2）\n",
    "df['load'] = df['cond'].map({'0b': 0, '1b': 1, '2b': 2})\n",
    "\n",
    "# 3. 先把每個受試在每個 load 下的 P300 與 Theta 取 trial 平均\n",
    "agg = df.groupby(['sub', 'load']).agg({\n",
    "    'p300_mean': 'mean',\n",
    "    'theta_mean': 'mean'\n",
    "}).reset_index()"
   ]
  },
  {
   "cell_type": "code",
   "execution_count": 11,
   "id": "d7b06547-4fb3-4286-9cf8-42e0e86c9f09",
   "metadata": {},
   "outputs": [
    {
     "name": "stdout",
     "output_type": "stream",
     "text": [
      "=== P300 Repeated Measures ANOVA (pingouin) ===\n",
      "  Source            SS  DF            MS         F    p-unc       ng2  \\\n",
      "0   load  2.359265e-12   2  1.179633e-12  9.881975  0.00035  0.092331   \n",
      "1  Error  4.536142e-12  38  1.193722e-13       NaN      NaN       NaN   \n",
      "\n",
      "        eps  \n",
      "0  0.755375  \n",
      "1       NaN   \n",
      "\n",
      "=== P300 Pairwise Tests (pingouin) ===\n",
      "Available columns: ['Contrast', 'A', 'B', 'Paired', 'Parametric', 'T', 'dof', 'alternative', 'p-unc', 'p-corr', 'p-adjust', 'BF10', 'hedges']\n",
      "A B         T    p-unc   p-corr\n",
      "0 1 -1.146525 0.265812 0.797437\n",
      "0 2  2.801504 0.011386 0.034159\n",
      "1 2  4.078186 0.000641 0.001923 \n",
      "\n"
     ]
    },
    {
     "name": "stderr",
     "output_type": "stream",
     "text": [
      "C:\\Users\\tp6mo\\anaconda3\\envs\\bci_env\\Lib\\site-packages\\pingouin\\distribution.py:1004: RuntimeWarning: divide by zero encountered in scalar divide\n",
      "  W = np.prod(eig) / (eig.sum() / d) ** d\n"
     ]
    }
   ],
   "source": [
    "# 4A. 使用 pingouin 做重複量數 ANOVA（P300）\n",
    "aov_p300 = pg.rm_anova(dv='p300_mean', within='load', subject='sub', data=agg, detailed=True)\n",
    "print(\"=== P300 Repeated Measures ANOVA (pingouin) ===\")\n",
    "print(aov_p300, \"\\n\")\n",
    "\n",
    "# 4B. 使用 pingouin 做成對 t 檢驗（P300），並 Bonferroni 校正\n",
    "pt_p300 = pg.pairwise_tests(\n",
    "    dv='p300_mean', within='load', subject='sub',\n",
    "    data=agg, padjust='bonf', parametric=True\n",
    ")\n",
    "print(\"=== P300 Pairwise Tests (pingouin) ===\")\n",
    "print(\"Available columns:\", list(pt_p300.columns))\n",
    "print(pt_p300[['A', 'B', 'T', 'p-unc', 'p-corr']].to_string(index=False), \"\\n\")"
   ]
  },
  {
   "cell_type": "code",
   "execution_count": 12,
   "id": "0fa03f1e-6612-4815-b9ed-65d0dc211ffb",
   "metadata": {},
   "outputs": [
    {
     "name": "stdout",
     "output_type": "stream",
     "text": [
      "=== Theta Repeated Measures ANOVA (pingouin) ===\n",
      "  Source            SS  DF            MS         F     p-unc      ng2  \\\n",
      "0   load  2.755785e-26   2  1.377892e-26  0.290761  0.749343  0.00142   \n",
      "1  Error  1.800787e-24  38  4.738913e-26       NaN       NaN      NaN   \n",
      "\n",
      "        eps  \n",
      "0  0.838042  \n",
      "1       NaN   \n",
      "\n",
      "=== Theta Pairwise Tests (pingouin) ===\n",
      "Available columns: ['Contrast', 'A', 'B', 'Paired', 'Parametric', 'T', 'dof', 'alternative', 'p-unc', 'p-corr', 'p-adjust', 'BF10', 'hedges']\n",
      "A B         T    p-unc  p-corr\n",
      "0 1 -0.930304 0.363884     1.0\n",
      "0 2 -0.257787 0.799343     1.0\n",
      "1 2  0.470004 0.643702     1.0 \n",
      "\n"
     ]
    },
    {
     "name": "stderr",
     "output_type": "stream",
     "text": [
      "C:\\Users\\tp6mo\\anaconda3\\envs\\bci_env\\Lib\\site-packages\\pingouin\\distribution.py:1004: RuntimeWarning: divide by zero encountered in scalar divide\n",
      "  W = np.prod(eig) / (eig.sum() / d) ** d\n"
     ]
    }
   ],
   "source": [
    "# 5A. 使用 pingouin 做重複量數 ANOVA（Theta）\n",
    "aov_theta = pg.rm_anova(dv='theta_mean', within='load', subject='sub', data=agg, detailed=True)\n",
    "print(\"=== Theta Repeated Measures ANOVA (pingouin) ===\")\n",
    "print(aov_theta, \"\\n\")\n",
    "\n",
    "# 5B. 使用 pingouin 的 pairwise_tests（Theta）\n",
    "pt_theta = pg.pairwise_tests(\n",
    "    dv='theta_mean', within='load', subject='sub',\n",
    "    data=agg, padjust='bonf', parametric=True\n",
    ")\n",
    "print(\"=== Theta Pairwise Tests (pingouin) ===\")\n",
    "print(\"Available columns:\", list(pt_theta.columns))\n",
    "print(pt_theta[['A', 'B', 'T', 'p-unc', 'p-corr']].to_string(index=False), \"\\n\")"
   ]
  },
  {
   "cell_type": "code",
   "execution_count": null,
   "id": "4f30ad03-dc4a-42ff-bef6-6d19bcdd2989",
   "metadata": {},
   "outputs": [],
   "source": []
  }
 ],
 "metadata": {
  "kernelspec": {
   "display_name": "Python 3 (ipykernel)",
   "language": "python",
   "name": "python3"
  },
  "language_info": {
   "codemirror_mode": {
    "name": "ipython",
    "version": 3
   },
   "file_extension": ".py",
   "mimetype": "text/x-python",
   "name": "python",
   "nbconvert_exporter": "python",
   "pygments_lexer": "ipython3",
   "version": "3.11.11"
  }
 },
 "nbformat": 4,
 "nbformat_minor": 5
}
